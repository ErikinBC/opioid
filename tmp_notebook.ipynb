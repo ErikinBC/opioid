{
 "cells": [
  {
   "cell_type": "code",
   "execution_count": 358,
   "metadata": {},
   "outputs": [],
   "source": [
    "import os\n",
    "import sys\n",
    "import pandas as pd\n",
    "import numpy as np\n",
    "import plotnine\n",
    "from plotnine import *\n",
    "import seaborn as sns\n",
    "import matplotlib as plt\n",
    "\n",
    "\n",
    "from plydata.cat_tools import *\n",
    "\n",
    "\n",
    "dir_base = os.getcwd()\n",
    "dir_data = os.path.join(dir_base, 'data')\n",
    "dir_figures = os.path.join(dir_base, 'figures')\n",
    "dir_output = os.path.join(dir_base, 'output')\n",
    "assert os.path.exists(dir_data)\n",
    "dir_pho = os.path.join(dir_data,'PHO')\n",
    "assert os.path.exists(dir_pho)\n",
    "if not os.path.exists(dir_figures):\n",
    "  os.mkdir(dir_figures)\n",
    "  \n",
    "if not os.path.exists(dir_output):\n",
    "  os.mkdir(dir_output)\n",
    "\n",
    "\"\"\"## (1.A) Merge data from PHO\n",
    "\n",
    "https://www.publichealthontario.ca/en/data-and-analysis/substance-use/interactive-opioid-tool\n",
    "\"\"\"\n",
    "\n",
    "fn_data = pd.Series(os.listdir(dir_pho))\n",
    "fn_data = fn_data[fn_data.str.contains('\\\\.csv$')]\n",
    "holder = []\n",
    "for fn in fn_data:\n",
    "  tmp_phu = fn.split(',')[1]\n",
    "  tmp_df = pd.read_csv(os.path.join(dir_pho,fn))\n",
    "  tmp_df.insert(0,'phu',tmp_phu)\n",
    "  holder.append(tmp_df)\n",
    "# Merge and clean\n",
    "df_phu = pd.concat(holder).reset_index(None,True)\n",
    "\n",
    "cn_drop = ['change of ED visits (%)','change of Hospitalizations (%)','change of Deaths (%)']\n",
    "di_cn = {'phu':'PHU','Year - Month':'date','Population':'population',\n",
    "         'Rate of ED visits':'rate_ED','Count of ED visits':'count_ED',\n",
    "         'Rate of Hospitalizations':'rate_hosp',\n",
    "         'Count of Hospitalizations':'count_hosp',\n",
    "         'Rate of Deaths':'rate_death','Count of Deaths':'count_death'}\n",
    "df_phu = df_phu.drop(columns=cn_drop).rename(columns=di_cn)\n",
    "df_phu.PHU = df_phu.PHU.str.strip()\n",
    "\n",
    "df_phu.PHU = df_phu.PHU.str.replace('\\\\sHealth\\\\sUnit','')\n",
    "df_phu.PHU = df_phu.PHU.str.replace('\\\\sPublic\\\\sHealth','')\n",
    "df_phu.date = pd.to_datetime(df_phu.date.str.replace('\\\\s\\\\-\\\\s','-')+'-01')\n",
    "df_phu.to_csv(os.path.join(dir_output,'df_phu.csv'),index=False)\n",
    "\n",
    "\"\"\"## (1.B) Append data from Coroner's office\"\"\"\n",
    "\n",
    "path = os.path.join(dir_data,'ON_Opioid_Deaths_Jan-Sept 2020 by PHU_Jan 29 2021_cleaned.csv')\n",
    "df_cor = pd.read_csv(path)\n",
    "df_cor.rename(columns={'Unnamed: 0':'PHU'},inplace=True)\n",
    "df_cor.PHU = df_cor.PHU.str.replace('\\\\sHealth\\\\sUnit','')\n",
    "df_cor.PHU = df_cor.PHU.str.replace('\\\\sPublic\\\\sHealth','')\n",
    "\n",
    "di_fix = {'Leeds, Grenville & Lanark District':'Leeds',\n",
    "          'Kingston, Frontenac and Lennox & Addington Publi':'Kingston',\n",
    "          'Haliburton, Kawartha, Pine Ridge District Health':'Haliburton'}\n",
    "tmp = df_cor.PHU.map(di_fix)\n",
    "df_cor.PHU = np.where(tmp.isnull(),df_cor.PHU,tmp)\n",
    "df_cor = df_cor.loc[1:].melt('PHU',None,'date','n').sort_values(['PHU','date'])\n",
    "df_cor = df_cor.assign(idx=lambda x: x.date.str.split('\\\\.',2,True).iloc[:,1],\n",
    "              date=lambda x: x.date.str.replace('\\\\.[1-2]',''))\n",
    "df_cor = df_cor.assign(idx=lambda x: np.where(x.idx.isnull(),0,x.idx).astype(int))\n",
    "df_cor = df_cor.assign(tt=lambda x: x.idx.map({0:'confirmed',1:'probable',2:'total'})).drop(columns='idx')\n",
    "df_cor.date = df_cor.date.str.replace('\\\\s2020','')\n",
    "tmp = df_cor.date.map({'Aug':'August','Sep':'September'})\n",
    "df_cor.date = np.where(tmp.isnull(),df_cor.date,tmp)\n",
    "df_cor.date = pd.to_datetime(df_cor.date+',2020',format='%B,%Y')\n",
    "df_cor.n = df_cor.n.astype(float).fillna(0).astype(int)\n",
    "# Double check total == confirmed + probable\n",
    "assert df_cor.groupby(['PHU','tt']).n.sum().reset_index().pivot('PHU','tt','n').assign(check=lambda x: x.confirmed+x.probable==x.total).check.all()\n",
    "# Merge Huron County and Perth District to Huron Perth\n",
    "df_cor = df_cor.assign(PHU=lambda x: np.where(x.PHU.isin(['Huron County','Perth District']),'Huron Perth',x.PHU))\n",
    "df_cor = df_cor.groupby(['PHU','date','tt']).n.sum().reset_index()\n",
    "tmp1 = df_phu[['PHU','date','population','count_death']].rename(columns={'count_death':'n'})\n",
    "tmp1 = tmp1.query('date >= 2005 & date<=\"2020-03-01\"').assign(n=lambda x: x.n.astype(int))\n",
    "tmp2 = df_cor.query('tt==\"confirmed\"').drop(columns='tt')\n",
    "df_both = tmp1.merge(tmp2,'outer',['PHU','date'])\n",
    "# df_both.query('date>=2020 & date<=\"2020-03-01\"').assign(check=lambda x: x.n_x==x.n_y).query('check==False')\n",
    "df_both = df_both.assign(n_death = lambda x: np.where(x.n_y.isnull(),x.n_x,x.n_y).astype(int)).drop(columns=['n_x','n_y'])\n",
    "df_both.population = df_both.groupby('PHU').population.fillna(method='ffill').astype(int)\n",
    "df_both = df_both.sort_values(['PHU','date']).reset_index(None, True)\n",
    "df_both = df_both.assign(year=lambda x: x.date.dt.strftime('%Y').astype(int),\n",
    "                          month=lambda x: x.date.dt.strftime('%m').astype(int))\n",
    "df_both.to_csv(os.path.join(dir_output,'df_deaths.csv'),index=False)"
   ]
  },
  {
   "cell_type": "markdown",
   "metadata": {},
   "source": [
    "\"\"\"## (2) Census Data\"\"\"\n"
   ]
  },
  {
   "cell_type": "code",
   "execution_count": 371,
   "metadata": {
    "scrolled": true
   },
   "outputs": [],
   "source": [
    "# https://www12.statcan.gc.ca/census-recensement/2016/dp-pd/prof/details/download-telecharger/comp/page_dl-tc.cfm?Lang=E\n",
    "# https://www.stthomastimesjournal.com/2018/05/10/marr-asks-provincial-candidates-to-invest-in-public-health-spending\n",
    "\n",
    "u_PHU = pd.Series(df_both.PHU.unique())\n",
    "# Load in the Census data\n",
    "di_census = {'CENSUS_YEAR':'year', 'GEO_NAME':'geo',\n",
    "             'DIM: Profile of Health Regions (2247)':'cn',\n",
    "             'Dim: Sex (3): Member ID: [1]: Total - Sex':'value'}\n",
    "path = os.path.join(dir_data,'census_healthregions.csv')\n",
    "df_census = pd.read_csv(path,usecols=list(di_census),low_memory=False)\n",
    "df_census = df_census.rename(columns=di_census)\n",
    "df_census.geo = df_census.geo.str.split('\\\\s\\\\/\\\\s',1,True).iloc[:,0].str.strip()\n",
    "u_geo = pd.Series(df_census.geo.unique())\n",
    "\n",
    "# Find a dictionary mapping\n",
    "di_PHU = {}\n",
    "for phu in u_PHU:\n",
    "    mtch = list(u_geo[u_geo.str.contains(phu)])\n",
    "    if len(mtch) == 1:\n",
    "        mtch = mtch[0]\n",
    "        di_PHU[mtch] = phu\n",
    "    #print('PHU: %s, match: %s\\n' % (phu, mtch))\n",
    "    #break\n",
    "# Manually assign the missing\n",
    "di_PHU['City of Hamilton Health Unit'] = 'City of Hamilton Services'\n",
    "di_PHU['Durham Regional Health Unit'] = 'Durham Region Health Department'\n",
    "di_PHU['Hastings and Prince Edward Counties Health Unit'] = 'Hastings Prince Edward'\n",
    "di_PHU['Sudbury and District Health Unit'] = 'Public Health Sudbury & Districts'\n",
    "di_PHU['Waterloo Health Unit'] = 'Region of Waterloo and Emergency Services'\n",
    "di_PHU['Elgin-St. Thomas Health Unit'] = 'Southwestern'\n",
    "di_PHU['Oxford County Health Unit'] = 'Southwestern'\n",
    "di_PHU['City of Toronto Health Unit'] = 'Toronto'\n",
    "di_PHU['Huron County Health Unit'] = 'Huron Perth'\n",
    "di_PHU['Perth District Health Unit'] = 'Huron Perth'\n",
    "# Keep only dictionary terms\n",
    "df_census = df_census[df_census.geo.isin(list(di_PHU))]\n",
    "df_census = df_census.assign(geo=lambda x: x.geo.map(di_PHU)).rename(columns={'geo':'PHU'})\n",
    "# Term mapper\n",
    "di_cn = {'Population, 2016':'population',\n",
    "         'Land area in square kilometres':'area_km2',\n",
    "        'Separated':'seperated',\n",
    "        'Divorced':'divorced',\n",
    "        'Married or living common law':'married',\n",
    "        'Median after-tax income in 2015 among recipients ($)':'income',\n",
    "        'Number of government transfers recipients aged 15 years and over in private households - 100% data':'num_transfers',\n",
    "        'Market income (%)':'pct_market',\n",
    "        'Employment income (%)':'pct_employment',\n",
    "        'Government transfers (%)':'pct_govt',\n",
    "        # ---'Prevalence of low income based on the Low-income measure, after tax (LIM-AT) (%)',\n",
    "        '0 to 17 years (%)':'poverty_child',\n",
    "        '18 to 64 years (%)':'poverty_adult',\n",
    "        '23 Construction':'construction',\n",
    "        'Unemployment rate':'unemp',\n",
    "        'Participation rate':'particp'}\n",
    "df_census = df_census[df_census.cn.isin(list(di_cn))].reset_index(None, True)\n",
    "df_census.cn = df_census.cn.map(di_cn)\n",
    "df_census['idx'] = df_census.groupby(cn_gg).cumcount()\n",
    "# Select the \"first\" poverty measure\n",
    "df_census = df_census.sort_values(cn_gg+['idx']).groupby(cn_gg).head(1).reset_index(None,True).drop(columns='idx')\n",
    "# Merge Huron and Perth to Huron Perth\n",
    "cn_gg = ['year','PHU', 'cn']\n",
    "df_census = df_census.groupby(cn_gg).value.sum().reset_index()\n",
    "# Do feature transformations\n",
    "cn_idx = ['year','PHU']\n",
    "df_census_wide = df_census.pivot_table('value',cn_idx,'cn',lambda x: x).reset_index()\n",
    "cn_val = df_census_wide.columns.drop(cn_idx).values\n",
    "df_census_wide[cn_val] = df_census_wide[cn_val].astype(float)\n",
    "# Normalize counts by population\n",
    "cn_ratio = ['construction', 'divorced', 'married', 'seperated', 'num_transfers']\n",
    "df_census_wide[cn_ratio] = df_census_wide[cn_ratio].divide(df_census_wide.population,axis=0)\n",
    "# Combined divorced and separated\n",
    "df_census_wide = df_census_wide.assign(divorce_sep=lambda x: x.divorced + x.seperated).drop(columns=['divorced','seperated'])\n",
    "# Make shares into percentages\n",
    "cn_share = ['particp', 'pct_employment', 'pct_govt', 'pct_market', 'poverty_adult', 'poverty_child', 'unemp']\n",
    "df_census_wide[cn_share] = df_census_wide[cn_share] / 100\n",
    "# Remove population\n",
    "df_census_wide.drop(columns='population', inplace=True)\n",
    "# Put pack into long-format\n",
    "df_census = df_census_wide.melt(cn_idx)"
   ]
  },
  {
   "cell_type": "code",
   "execution_count": 375,
   "metadata": {},
   "outputs": [],
   "source": []
  },
  {
   "cell_type": "code",
   "execution_count": 367,
   "metadata": {},
   "outputs": [],
   "source": [
    "# Remove any multicollinear columns\n",
    "cn_val = df_census_wide.columns.drop(cn_idx).values\n",
    "dat_rho = df_census_wide[cn_val].corr()"
   ]
  },
  {
   "cell_type": "code",
   "execution_count": 368,
   "metadata": {},
   "outputs": [
    {
     "data": {
      "text/plain": [
       "<matplotlib.axes._subplots.AxesSubplot at 0x7fc43b6d3dd0>"
      ]
     },
     "execution_count": 368,
     "metadata": {},
     "output_type": "execute_result"
    },
    {
     "data": {
      "image/png": "[encoded data removed]",
      "text/plain": [
       "<Figure size 864x720 with 2 Axes>"
      ]
     },
     "metadata": {
      "needs_background": "light"
     },
     "output_type": "display_data"
    }
   ],
   "source": [
    "plt.rcParams['figure.figsize'] = [12, 10]\n",
    "sns.heatmap(dat_rho,mask=np.tril(np.ones(dat_rho.shape)).astype(np.bool),cmap='coolwarm')"
   ]
  },
  {
   "cell_type": "code",
   "execution_count": null,
   "metadata": {},
   "outputs": [],
   "source": []
  },
  {
   "cell_type": "code",
   "execution_count": null,
   "metadata": {},
   "outputs": [],
   "source": []
  },
  {
   "cell_type": "code",
   "execution_count": null,
   "metadata": {},
   "outputs": [],
   "source": []
  },
  {
   "cell_type": "code",
   "execution_count": 376,
   "metadata": {},
   "outputs": [],
   "source": [
    "df_census.to_csv(os.path.join(dir_output, 'df_census.csv'),index=False)"
   ]
  },
  {
   "cell_type": "code",
   "execution_count": 116,
   "metadata": {},
   "outputs": [],
   "source": []
  },
  {
   "cell_type": "code",
   "execution_count": null,
   "metadata": {},
   "outputs": [],
   "source": []
  },
  {
   "cell_type": "code",
   "execution_count": null,
   "metadata": {},
   "outputs": [],
   "source": []
  }
 ],
 "metadata": {
  "kernelspec": {
   "display_name": "Python 3",
   "language": "python",
   "name": "python3"
  },
  "language_info": {
   "codemirror_mode": {
    "name": "ipython",
    "version": 3
   },
   "file_extension": ".py",
   "mimetype": "text/x-python",
   "name": "python",
   "nbconvert_exporter": "python",
   "pygments_lexer": "ipython3",
   "version": "3.7.6"
  }
 },
 "nbformat": 4,
 "nbformat_minor": 4
}
